{
 "cells": [
  {
   "cell_type": "markdown",
   "metadata": {},
   "source": [
    "# Links to Resources\n",
    "[WPRDC data set](https://data.wprdc.org/dataset/particulate-matter-2-5/resource/d281efe0-62d9-4c2b-b41f-bb99fcbec705?inner_span=True)\n",
    "\n",
    "[Census Reporter](https://censusreporter.org/profiles/14000US42003401100-census-tract-4011-allegheny-pa/)\n",
    "\n",
    "[PM description](https://www.epa.gov/pm-pollution/particulate-matter-pm-basics)\n",
    "\n",
    "[Pitt Neighborhoods Based on Census Tract](https://data.wprdc.org/dataset/2020-census-redistricting-data-extracts/resource/6b09ea3e-7d34-4665-ad0b-798a0efadc29)"
   ]
  },
  {
   "cell_type": "markdown",
   "metadata": {},
   "source": []
  }
 ],
 "metadata": {
  "kernelspec": {
   "display_name": "Python 3",
   "language": "python",
   "name": "python3"
  },
  "language_info": {
   "codemirror_mode": {
    "name": "ipython",
    "version": 3
   },
   "file_extension": ".py",
   "mimetype": "text/x-python",
   "name": "python",
   "nbconvert_exporter": "python",
   "pygments_lexer": "ipython3",
   "version": "3.8.3"
  }
 },
 "nbformat": 4,
 "nbformat_minor": 4
}

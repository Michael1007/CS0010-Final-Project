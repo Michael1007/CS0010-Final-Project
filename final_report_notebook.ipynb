{
 "cells": [
  {
   "cell_type": "markdown",
   "metadata": {},
   "source": [
    "Team Name: \n",
    "# *TAX EVASION*\n",
    "## ***Introduction***\n",
    "Hello to whoever is reading this! My group, \"Tax Evasion\"'s project is based on which Pittsburgh neighborhood is the best. The best for what? The best for surviving a **NUCLEAR EXPLOSION!!!** \n",
    "\n",
    "![BOOSH](https://media.giphy.com/media/rhYsUMhhd6yA0/giphy.gif)\n",
    "\n",
    "I know, kinda scary. But we thought, where around Pittsburgh would be the most feasible for this feat? And so: our beautiful and terrifying project was born.\n",
    "\n",
    "### **Metrics**\n",
    "We have a total of *four* metrics. For our first metric is the amount of **Particulate Matter**\n",
    "\n",
    "### **The Best Neighborhood**\n",
    "Based on our metrics, we\n"
   ]
  },
  {
   "cell_type": "code",
   "execution_count": null,
   "metadata": {},
   "outputs": [],
   "source": []
  }
 ],
 "metadata": {
  "kernelspec": {
   "display_name": "Python 3",
   "language": "python",
   "name": "python3"
  },
  "language_info": {
   "codemirror_mode": {
    "name": "ipython",
    "version": 3
   },
   "file_extension": ".py",
   "mimetype": "text/x-python",
   "name": "python",
   "nbconvert_exporter": "python",
   "pygments_lexer": "ipython3",
   "version": "3.8.3"
  }
 },
 "nbformat": 4,
 "nbformat_minor": 4
}
